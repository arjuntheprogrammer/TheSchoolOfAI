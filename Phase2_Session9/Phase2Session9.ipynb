{
  "nbformat": 4,
  "nbformat_minor": 0,
  "metadata": {
    "colab": {
      "name": "Phase2Session9.ipynb",
      "provenance": [],
      "collapsed_sections": []
    },
    "kernelspec": {
      "name": "python3",
      "display_name": "Python 3"
    }
  },
  "cells": [
    {
      "cell_type": "markdown",
      "metadata": {
        "id": "f1l3wsVN1zMS",
        "colab_type": "text"
      },
      "source": [
        "# The School Of AI Assignment\n",
        "\n",
        "\n",
        "## **Phase 2 Session 9: Assignment**\n",
        "\n",
        "1. Well, there is a reason why this code is in the image, and not pasted.\n",
        "2. You need to:\n",
        "    1. write this code down on a Colab file, upload it to GitHub.\n",
        "    2. write a Readme file explaining all the 15 steps we have taken:\n",
        "        1. read me must explain each part of the code\n",
        "        2. each part of the code must be accompanied with a drawing/image (you cannot use the images from the course content)\n",
        "    3. Upload the link."
      ]
    },
    {
      "cell_type": "markdown",
      "metadata": {
        "id": "sLn_C9yP11yR",
        "colab_type": "text"
      },
      "source": [
        "## **Twin Delayed DDPG (TD3)**\n",
        "* **DDPG** stands for **Deep Deterministic Policy Gradient** and is a recent breakthrough in AI, particularly in the case of environments with continuous action spaces.\n",
        "* To be able to apply Q-learning to continuous tasks, the authors introduced the Actor-Critic model.\n",
        "* Actor-Critic has 2 neural networks that the following way:\n",
        "    1. The Actor is the policy that takes as input the State and outputs Actions\n",
        "    2. The Critic takes as input States and Actions concatenated together and outputs a Q-value\n",
        "* The Critic learns the optimal Q-values which are then used to for gradient ascent to update the parameters of the Actor.\n",
        "* By combining learning the Q-values (which are rewards) and the parameters of the policy at the same time, we can maximize expected reward.\n"
      ]
    },
    {
      "cell_type": "markdown",
      "metadata": {
        "id": "_wibc6-T14rp",
        "colab_type": "text"
      },
      "source": [
        "## **TD3 Steps With Screenshots**\n",
        "\n",
        "<img width=\"1083\" alt=\"Screenshot 2020-03-31 at 1 35 11 PM\" src=\"https://user-images.githubusercontent.com/15984084/78004576-ec2de080-7357-11ea-941c-6a9987ba3073.png\">"
      ]
    },
    {
      "cell_type": "code",
      "metadata": {
        "id": "l589op7X2nna",
        "colab_type": "code",
        "colab": {}
      },
      "source": [
        "## INITIALIZATION\n",
        "import os\n",
        "import time\n",
        "import random\n",
        "import numpy as np\n",
        "import matplotlib.pyplot as plt\n",
        "import pybullet_envs # helps to do 3D manipulations\n",
        "import gym\n",
        "import torch\n",
        "import torch.nn as nn\n",
        "import torch.nn.functional as F\n",
        "from gym import wrappers\n",
        "from torch.autograd import Variable\n",
        "from collections import deque\n"
      ],
      "execution_count": 0,
      "outputs": []
    },
    {
      "cell_type": "markdown",
      "metadata": {
        "id": "SQAziIis165i",
        "colab_type": "text"
      },
      "source": [
        "### **Step1**: Define Experience Replay Memory\n",
        "<img width=\"922\" alt=\"Screenshot 2020-03-31 at 1 17 51 PM\" src=\"https://user-images.githubusercontent.com/15984084/78001064-cd791b00-7352-11ea-960f-10ba8eb25a0b.png\">\n"
      ]
    },
    {
      "cell_type": "code",
      "metadata": {
        "id": "Q9AsWYnd2jmk",
        "colab_type": "code",
        "colab": {}
      },
      "source": [
        "##  STEP 1\n",
        "'''\n",
        "Define a Class for Experience Replay Memory which has 3 functions:\n",
        "1. __init__(): Initialize memory with size of 1e6 with a size of 1e6.\n",
        "2. add(): Functionality to provide addtion/appending support to the replay memory.\n",
        "3. sample(): Functionality to get random samples from replay memory.\n",
        "'''\n",
        "class ReplayBuffer(object):\n",
        "    def __init__(self, max_size=1e6):\n",
        "        self.storage = []\n",
        "        self.max_size = max_size\n",
        "        self.ptr = 0\n",
        "\n",
        "    def add(self, transition):\n",
        "        if len(self.storage) == self.max_size:\n",
        "            self.storage[int(self.ptr)] = transition\n",
        "            self.ptr = (self.ptr + 1) % self.max_size\n",
        "        else:\n",
        "            self.storage.append(transition)\n",
        "\n",
        "    def sample(self, batch_size):\n",
        "        ind = np.random.randint(0, len(self.storage), batch_size)\n",
        "        batch_states, batch_next_states, batch_actions, batch_rewards, \\\n",
        "            batch_dones = [], [], [], [], []\n",
        "        for i in ind:\n",
        "            state, next_state, action, reward, done = self.storage[i]\n",
        "            batch_states.append(np.array(state, copy=False))\n",
        "            batch_next_states.append(np.array(next_state, copy=False))\n",
        "            batch_actions.append(np.array(action, copy=False))\n",
        "            batch_rewards.append(np.array(reward, copy=False))\n",
        "            batch_dones.append(np.array(done, copy=False))\n",
        "        return np.array(batch_states), np.array(batch_next_states), \\\n",
        "            np.array(batch_actions), np.array(batch_rewards).reshape(-1, 1), \\\n",
        "                np.array(batch_dones).reshape(-1, 1)"
      ],
      "execution_count": 0,
      "outputs": []
    },
    {
      "cell_type": "markdown",
      "metadata": {
        "id": "3cVwxGu31-9Y",
        "colab_type": "text"
      },
      "source": [
        "### **Step2**: Define Actor Model\n",
        "<img width=\"717\" alt=\"Screenshot 2020-03-31 at 1 17 59 PM\" src=\"https://user-images.githubusercontent.com/15984084/78001083-d2d66580-7352-11ea-9fc1-524c72bb431a.png\">"
      ]
    },
    {
      "cell_type": "code",
      "metadata": {
        "id": "YjOpeiHs2uUs",
        "colab_type": "code",
        "colab": {}
      },
      "source": [
        "##  STEP 2\n",
        "'''\n",
        "Build two DNNs: one for Actor model and one for Actor Target with the same definition\n",
        "__init__() :    state_dims - how many variables are there in a state\n",
        "                acton_dims - how many actions can be taken (they are floating point number but dimensions are fixed)\n",
        "                max_action - limit for each action\n",
        "                Initialize Actor\n",
        "\n",
        "forward(): forward propagation to return what actions to take and by how much\n",
        "\n",
        "'''\n",
        "class Actor (nn.Module):\n",
        "    def __init__(self, state_dims, action_dim, max_action):\n",
        "        # max_action is to clip in case we added too much noise\n",
        "        super(Actor, self).__init__() # activate the inheritance\n",
        "        self.layer_1 = nn.Linear(state_dims, 400)\n",
        "        self.layer_2 = nn.Linear(400, 300)\n",
        "        self.layer_3 = nn.Linear(300, action_dim)\n",
        "        self.max_action = max_action\n",
        "\n",
        "    def forward(self, x):\n",
        "        x = F.relu(self.layer_1(x))\n",
        "        x = F.relu(self.layer_2(x))\n",
        "        x = self.max_action * torch.tanh(self.layer_3(x))\n",
        "        return x"
      ],
      "execution_count": 0,
      "outputs": []
    },
    {
      "cell_type": "markdown",
      "metadata": {
        "id": "_Cl3_tIx2BsZ",
        "colab_type": "text"
      },
      "source": [
        "### **Step3**: Define Critic Model\n",
        "<img width=\"817\" alt=\"Screenshot 2020-03-31 at 1 19 10 PM\" src=\"https://user-images.githubusercontent.com/15984084/78001100-d964dd00-7352-11ea-8bd4-43c918b77d83.png\">\n"
      ]
    },
    {
      "cell_type": "code",
      "metadata": {
        "id": "7g7ZiBPm2vGf",
        "colab_type": "code",
        "colab": {}
      },
      "source": [
        "## Step 3\n",
        "'''\n",
        "Build two DNNs for - the two Critic models and two Critic Targets\n",
        "Both Critic(model and targe) have diffent weights.\n",
        "__init__() :    state_dims - how many variables are there in a state\n",
        "                acton_dims - how many actions can be taken (they are floating point number but dimensions are fixed)\n",
        "                Initialize Two Critics\n",
        "\n",
        "forward(): forward propagation to return max Q value\n",
        "\n",
        "Q1: We have taken the first critic for training of the actor\n",
        "    because we don't want any back progagation to happen here so\n",
        "    kept separately.\n",
        "'''\n",
        "class Critic(nn.module):\n",
        "    def __init__(self, state_dims, action_dim):\n",
        "        super(Critic, self).__init__() # activate the inheritance\n",
        "\n",
        "        # First Critic Network\n",
        "        self.layer_1 = nn.Linear(state_dims + action_dim, 400)\n",
        "        self.layer_2 = nn.Linear(400, 300)\n",
        "        self.layer_3 = nn.Linear(300, action_dim)\n",
        "\n",
        "        # Second Critic Network\n",
        "        self.layer_4 = nn.Linear(state_dims + action_dim, 400)\n",
        "        self.layer_5 = nn.Linear(400, 300)\n",
        "        self.layer_6 = nn.Linear(300, action_dim)\n",
        "\n",
        "    def forward(self, x, u): # x - state, u - action\n",
        "        xu = torch.cat([x, u], 1) # 1 for vertical concatenation, 0 for Horizontal\n",
        "\n",
        "        # forward propagation on first critic\n",
        "        x1 = F.relu(self.layer_1(xu))\n",
        "        x1 = F.relu(self.layer_2(x1))\n",
        "        x1 = self.layer_3(x1)\n",
        "\n",
        "        # forward propagation on second critic\n",
        "        x2 = F.relu(self.layer_4(xu))\n",
        "        x2 = F.relu(self.layer_5(x2))\n",
        "        x2 = self.layer_6(x2)\n",
        "\n",
        "        return x1, x2\n",
        "\n",
        "    def Q1(self, x, u): # x - state, u = action; this is used for updating Q values\n",
        "        xu = torch.cat([x, u], 1) # 1 for vertical concatenation, 0 for Horizontal\n",
        "        x1 = F.relu(self.layer_1(xu))\n",
        "        x1 = F.relu(self.layer_2(x1))\n",
        "        x1 = self.layer_3(x1)\n",
        "        return x1"
      ],
      "execution_count": 0,
      "outputs": []
    },
    {
      "cell_type": "markdown",
      "metadata": {
        "id": "IvCROoz22D6p",
        "colab_type": "text"
      },
      "source": [
        "### **Step4**: Get Random sample from Experience Replay Memory\n",
        "<img width=\"1054\" alt=\"Screenshot 2020-03-31 at 1 19 30 PM\" src=\"https://user-images.githubusercontent.com/15984084/78001122-e255ae80-7352-11ea-98cd-b151529fafd7.png\">\n",
        "\n",
        "<img width=\"973\" alt=\"Screenshot 2020-03-31 at 1 19 40 PM\" src=\"https://user-images.githubusercontent.com/15984084/78001146-eb468000-7352-11ea-81ee-c1542a3dbd43.png\">\n"
      ]
    },
    {
      "cell_type": "code",
      "metadata": {
        "id": "fgoxu0Po3pBG",
        "colab_type": "code",
        "colab": {}
      },
      "source": [
        "## Step 4-15\n",
        "'''\n",
        "Training Process - Create T3D Class\n",
        "__init__():     state_dims - how many variables are there in a state\n",
        "                acton_dims - how many actions can be taken (they are floating point number but dimensions are fixed)\n",
        "                max_action - limit for each action\n",
        "                Initialize  T3D Model\n",
        "\n",
        "select_action():\n",
        "\n",
        "'''\n",
        "# Selecting the device (CPU or GPU)\n",
        "device = torch.device('cuda' if torch.cuda.is_available() else 'cpu')\n",
        "\n",
        "# Building the whole Training Process into a class\n",
        "class T3D(object):\n",
        "    def __init__(self, state_dims, action_dim, max_action):\n",
        "        # making sure our T3D class can work any env\n",
        "        self.actor = Actor(state_dims, action_dim, max_action).to(device) # Gradient Descent\n",
        "        self.actor_target = Actor(state_dims, action_dim, max_action).to(device) # Polyak Averaging\n",
        "        self.actor.load_state_dict(self.actor.state_dict)\n",
        "        # initializing with model weights to keep them same\n",
        "        self.actor_optimizer = torch.optim.Adam(self.actor.parameters())\n",
        "\n",
        "        self.critic = Critic(state_dims, action_dim).to(device) # Gradient Descent\n",
        "        self.critic_target = Critic(state_dims, action_dim).to(device) # Polyak Averaging\n",
        "        self.critic_target.load_state_dict(self.critic.state_dict)\n",
        "        # initializing with model weights to keep them same\n",
        "        self.critic_optimizer = torch.optim.Adam(self.critic.parameters())\n",
        "        self.max_action = max_action\n",
        "\n",
        "    def select_action(self, state):\n",
        "        state = torch.Tensor(state.reshape(1, -1,)).to(device)\n",
        "        return self.actor(state).cpu().data.numpy().flatten()\n",
        "\n",
        "    def train(self, replay_buffer, iterations, batch_size=100, discount=0.99,\n",
        "    tau=0.005, policy_noise=0.2, noise_clip=0.5, policy_freq=2):\n",
        "        for it in range(iterations):\n",
        "            ## Step 4\n",
        "            '''We sample from a batch of transitions (s, s', a, r) from memory'''\n",
        "            batch_states, batch_next_states, batch_actions, batch_rewards, batch_dones \\\n",
        "                = replay_buffer.sample(batch_size)\n",
        "            state = torch.Tensor(batch_states).to(device)\n",
        "            next_state = torch.Tensor(batch_next_states).to(device)\n",
        "            action = torch.Tensor(batch_actions).to(device)\n",
        "            reward = torch.Tensor(batch_rewards).to(device)\n",
        "            done = torch.Tensor(batch_dones).to(device)\n",
        "\n",
        "            ## Step 5\n",
        "            '''From the next state s', the actor target plays the next action a'''\n",
        "            next_action = self.actor_target.forward(next_state)\n",
        "\n",
        "            ## Step 6\n",
        "            '''We add Gaussian noise to this next action a' and\n",
        "            we clamp it in a range of values supported by the environment'''\n",
        "            noise = torch.Tensor(batch_actions).data.normal_(0, policy_noise).to(device)\n",
        "            noise = noise.clamp(-noise_clip, noise_clip)\n",
        "            next_action = (next_action + noise).clamp(-self.max_action, self.max_action)\n",
        "\n",
        "            ## Step 7\n",
        "            '''The two Critic targets take each the couple (s', a') as input\n",
        "            and return two Q values, Qt1(s', a') and Qt2(s', a') as outputs'''\n",
        "            target_Q1, target_Q2 = self.critic_target.forward(next_state, next_action)\n",
        "\n",
        "            ## Step 8\n",
        "            ''' Keep the minimum of these two Q-Values'''\n",
        "            target_Q = torch.min(target_Q1, target_Q2)\n",
        "\n",
        "            ## Step 9\n",
        "            '''\n",
        "            We get the final target of the two Critic models, which is:\n",
        "                Qt = r + gamma * min(Qt1, Qt2)\n",
        "                target_Q = reward + discount * target_Q\n",
        "\n",
        "            We can't run the above equation efficiently as some components\n",
        "            are in Computational graphs and some are not. We need to make\n",
        "            two minor modification:\n",
        "            First, we are only supposed to run this if the episode is over,\n",
        "                which means we need to integrate Done\n",
        "            Second, target_q would create it's BP/computation graph, and without\n",
        "                detaching Qt1/Qt2 from their own graph, we are complicating things,\n",
        "                i.e. we need to use detach.\n",
        "            *NOTE* => Done=1 (episode over), Done=0 (episode not over)\n",
        "            '''\n",
        "            target_Q = reward + ((1-done) * discount * target_Q).detach()\n",
        "\n",
        "            ## Step 10\n",
        "            ''' Two critic model take (s,a) and return two Q-Values'''\n",
        "            current_Q1, current_Q2 = self.critic.forward(state, action)\n",
        "\n",
        "            ## Step 11\n",
        "            '''Compute the loss coming from two critic models'''\n",
        "            critic_loss = F.mse_loss(current_Q1, target_Q) + F.mse_loss(current_Q2, target_Q)\n",
        "\n",
        "            ## Step 12\n",
        "            ''' Backpropagate the critic loss and update the parameters of two Critic models with a Adam optimizer'''\n",
        "            self.critic_optimizer.zero_grad() # initializing the gradients to zero\n",
        "            critic_loss.bakward() # computing the gradients\n",
        "            self.criti_optimizer.step() # performing the weight updates\n",
        "\n",
        "            ## Step 13\n",
        "            '''Once every two iterations, we update our Actor model by  performing\n",
        "            gradient ASCENT on the output of the first Critic model'''\n",
        "            if it % policy_freq == 0:\n",
        "                # This is DPG part\n",
        "                actor_loss = -(self.critic.Q1(state, self.actor(state)).mean())\n",
        "                self.actor_optimizer.grad_zero()\n",
        "                actor_loss.backward()\n",
        "                self.actor_optimizer.step()\n",
        "\n",
        "                ## Step 14\n",
        "                '''Still, in once every two iterations, we update our Actor\n",
        "                Target by Polyak Averaging'''\n",
        "                for param, target_param in zip(self.actor.parameters(), self.actor_target.parameters()):\n",
        "                    target_param.data.copy_(tau * param.data + (1-tau)* target_param.data)\n",
        "\n",
        "                ## Step 15\n",
        "                '''Still, in once every two iterations, we update our Critic\n",
        "                Target by Polyak Averaging'''\n",
        "                for param, target_param in zip(self.critic.parameters(), self.critic_target.parameters()):\n",
        "                    target_param.data.copy_(tau * param.data + (1-tau)* target_param.data)"
      ],
      "execution_count": 0,
      "outputs": []
    },
    {
      "cell_type": "markdown",
      "metadata": {
        "id": "pzd69tYD2GDp",
        "colab_type": "text"
      },
      "source": [
        "### **Step5**: Get Next Action (a’) from Next State(s’) using actor target\n",
        "<img width=\"895\" alt=\"Screenshot 2020-03-31 at 1 19 48 PM\" src=\"https://user-images.githubusercontent.com/15984084/78001160-ef729d80-7352-11ea-8e07-7a3e892a5abe.png\">"
      ]
    },
    {
      "cell_type": "markdown",
      "metadata": {
        "id": "GlcUkk592LWS",
        "colab_type": "text"
      },
      "source": [
        "### **Step6**: Gaussian Noise to Next Action (a’) and clamp to a range\n",
        "<img width=\"1039\" alt=\"Screenshot 2020-03-31 at 1 20 04 PM\" src=\"https://user-images.githubusercontent.com/15984084/78001188-f7cad880-7352-11ea-8fc5-413ae635421a.png\">"
      ]
    },
    {
      "cell_type": "markdown",
      "metadata": {
        "id": "5GX5Kbu42MyT",
        "colab_type": "text"
      },
      "source": [
        "### **Step7**: Two Critic Target take s’ and a’ as input and return two Q Values\n",
        "<img width=\"1012\" alt=\"Screenshot 2020-03-31 at 1 20 14 PM\" src=\"https://user-images.githubusercontent.com/15984084/78001226-03b69a80-7353-11ea-9c54-540a04c65a87.png\">\n"
      ]
    },
    {
      "cell_type": "markdown",
      "metadata": {
        "id": "MlX8d4mO2OdK",
        "colab_type": "text"
      },
      "source": [
        "### **Step8**: Take Minimum of Q1 and Q2 and output Target Q\n",
        "<img width=\"784\" alt=\"Screenshot 2020-03-31 at 1 20 22 PM\" src=\"https://user-images.githubusercontent.com/15984084/78001254-0fa25c80-7353-11ea-9e40-06181bf62999.png\">"
      ]
    },
    {
      "cell_type": "markdown",
      "metadata": {
        "id": "JBGXHspq2QeS",
        "colab_type": "text"
      },
      "source": [
        "### **Step9**: Get the final target of the two Critic models\n",
        "<img width=\"979\" alt=\"Screenshot 2020-03-31 at 1 20 28 PM\" src=\"https://user-images.githubusercontent.com/15984084/78001284-1d57e200-7353-11ea-85a1-7659369569cf.png\">"
      ]
    },
    {
      "cell_type": "markdown",
      "metadata": {
        "id": "0XyrG2qN2Vg5",
        "colab_type": "text"
      },
      "source": [
        "### **Step10**: Two Critic Model take current state(s) and current action (a) as input and return two current Q Values\n",
        "<img width=\"1007\" alt=\"Screenshot 2020-03-31 at 1 20 35 PM\" src=\"https://user-images.githubusercontent.com/15984084/78001301-22b52c80-7353-11ea-8db9-0b916c151367.png\">"
      ]
    },
    {
      "cell_type": "markdown",
      "metadata": {
        "id": "JgdcrMPS2V34",
        "colab_type": "text"
      },
      "source": [
        "### **Step11**: Compute the Critic Loss\n",
        "<img width=\"831\" alt=\"Screenshot 2020-03-31 at 1 20 40 PM\" src=\"https://user-images.githubusercontent.com/15984084/78001415-44aeaf00-7353-11ea-9dab-99b4f0056497.png\">"
      ]
    },
    {
      "cell_type": "markdown",
      "metadata": {
        "id": "FvKMW8iP2Xhr",
        "colab_type": "text"
      },
      "source": [
        "### **Step12**: Backpropagate the critic loss and update the parameters of two Critic models\n",
        "<img width=\"1133\" alt=\"Screenshot 2020-03-31 at 1 20 49 PM\" src=\"https://user-images.githubusercontent.com/15984084/78001456-51cb9e00-7353-11ea-9288-3223cba43a1f.png\">"
      ]
    },
    {
      "cell_type": "markdown",
      "metadata": {
        "id": "wspSLa6-2Y-B",
        "colab_type": "text"
      },
      "source": [
        "### **Step13**:  Once every two iterations, we update our Actor model\n",
        "<img width=\"1242\" alt=\"Screenshot 2020-03-31 at 1 21 19 PM\" src=\"https://user-images.githubusercontent.com/15984084/78001508-6740c800-7353-11ea-844b-1be0fb7d75d4.png\">"
      ]
    },
    {
      "cell_type": "markdown",
      "metadata": {
        "id": "W7_EFyEH2bgL",
        "colab_type": "text"
      },
      "source": [
        "### **Step14**: Still, in once every two iterations, update our Actor Target by Polyak Averaging\n",
        "<img width=\"1247\" alt=\"Screenshot 2020-03-31 at 1 21 28 PM\" src=\"https://user-images.githubusercontent.com/15984084/78001623-97886680-7353-11ea-977e-8cb9a77f1eda.png\">"
      ]
    },
    {
      "cell_type": "markdown",
      "metadata": {
        "id": "Q07kV5j32dJO",
        "colab_type": "text"
      },
      "source": [
        "### **Step15**: Still, in once every two iterations, we update our Critic  Target by Polyak Averaging\n",
        "<img width=\"1226\" alt=\"Screenshot 2020-03-31 at 1 21 43 PM\" src=\"https://user-images.githubusercontent.com/15984084/78001797-d9b1a800-7353-11ea-91a0-e7d6e9169dbb.png\">"
      ]
    }
  ]
}